{
  "nbformat": 4,
  "nbformat_minor": 0,
  "metadata": {
    "colab": {
      "name": "simple-bayesian-analysis-inference-of-coronavirus-infection-rate-from-the-stanford-study-in-santa-clara-county.ipynb",
      "provenance": [],
      "collapsed_sections": [],
      "authorship_tag": "ABX9TyN+FB1W+eM7/hB4xcnU52Rb",
      "include_colab_link": true
    },
    "kernelspec": {
      "name": "python3",
      "display_name": "Python 3"
    }
  },
  "cells": [
    {
      "cell_type": "markdown",
      "metadata": {
        "id": "view-in-github",
        "colab_type": "text"
      },
      "source": [
        "<a href=\"https://colab.research.google.com/github/hgbrian/Bayesian-Linear-Regression-Experiments/blob/master/simple_bayesian_analysis_inference_of_coronavirus_infection_rate_from_the_stanford_study_in_santa_clara_county.ipynb\" target=\"_parent\"><img src=\"https://colab.research.google.com/assets/colab-badge.svg\" alt=\"Open In Colab\"/></a>"
      ]
    },
    {
      "cell_type": "code",
      "metadata": {
        "id": "YBgXiQEnx2jt",
        "colab_type": "code",
        "colab": {
          "base_uri": "https://localhost:8080/",
          "height": 71
        },
        "outputId": "9830f2dd-d857-4deb-8ab8-42fef119fbb3"
      },
      "source": [
        "!pip install pystan"
      ],
      "execution_count": 2,
      "outputs": [
        {
          "output_type": "stream",
          "text": [
            "Requirement already satisfied: pystan in /usr/local/lib/python3.6/dist-packages (2.19.1.1)\n",
            "Requirement already satisfied: numpy>=1.7 in /usr/local/lib/python3.6/dist-packages (from pystan) (1.18.3)\n",
            "Requirement already satisfied: Cython!=0.25.1,>=0.22 in /usr/local/lib/python3.6/dist-packages (from pystan) (0.29.17)\n"
          ],
          "name": "stdout"
        }
      ]
    },
    {
      "cell_type": "code",
      "metadata": {
        "id": "17wQCKW9x0_n",
        "colab_type": "code",
        "colab": {}
      },
      "source": [
        "import pystan\n",
        "import io"
      ],
      "execution_count": 0,
      "outputs": []
    },
    {
      "cell_type": "code",
      "metadata": {
        "id": "Xuvj3YK-0Dn3",
        "colab_type": "code",
        "colab": {}
      },
      "source": [
        "model1 = \"\"\"data {\n",
        "  int y_sample;\n",
        "  int n_sample;\n",
        "  int y_spec;\n",
        "  int n_spec;\n",
        "  int y_sens;\n",
        "  int n_sens;\n",
        "}\n",
        "parameters {\n",
        "  real<lower = 0, upper = 1> p;\n",
        "  real<lower = 0, upper = 1> spec;\n",
        "  real<lower = 0, upper = 1> sens;\n",
        "}\n",
        "model {\n",
        "  real p_sample;\n",
        "  p_sample = p * sens + (1 - p) * (1 - spec);\n",
        "  y_sample ~ binomial(n_sample, p_sample);\n",
        "  y_spec ~ binomial(n_spec, spec);\n",
        "  y_sens ~ binomial(n_sens, sens);\n",
        "}\"\"\""
      ],
      "execution_count": 0,
      "outputs": []
    },
    {
      "cell_type": "code",
      "metadata": {
        "id": "WDgpi9cx0GT4",
        "colab_type": "code",
        "colab": {
          "base_uri": "https://localhost:8080/",
          "height": 35
        },
        "outputId": "1f3d171f-c10a-4300-a358-77d36561f1fa"
      },
      "source": [
        "sm1 = pystan.StanModel(io.StringIO(model1))"
      ],
      "execution_count": 15,
      "outputs": [
        {
          "output_type": "stream",
          "text": [
            "INFO:pystan:COMPILING THE C++ CODE FOR MODEL anon_model_6f756a2a99ec06dc98376140b81b067e NOW.\n"
          ],
          "name": "stderr"
        }
      ]
    },
    {
      "cell_type": "code",
      "metadata": {
        "id": "EqsLp4lt0XCK",
        "colab_type": "code",
        "colab": {
          "base_uri": "https://localhost:8080/",
          "height": 269
        },
        "outputId": "e91bc0e7-2520-42ca-e63b-0493f843d1a3"
      },
      "source": [
        "data1a = {\"y_sample\":50, \"n_sample\":3330, \"y_spec\":369+30, \"n_spec\":371+30, \"y_sens\":25+78, \"n_sens\":37+85}\n",
        "fit1a = sm1.sampling(data=data1a, iter=10000, chains=4, warmup=500, thin=1, seed=101);\n",
        "fit1a"
      ],
      "execution_count": 19,
      "outputs": [
        {
          "output_type": "execute_result",
          "data": {
            "text/plain": [
              "Inference for Stan model: anon_model_6f756a2a99ec06dc98376140b81b067e.\n",
              "4 chains, each with iter=10000; warmup=500; thin=1; \n",
              "post-warmup draws per chain=9500, total post-warmup draws=38000.\n",
              "\n",
              "       mean se_mean     sd   2.5%    25%    50%    75%  97.5%  n_eff   Rhat\n",
              "p      0.01  3.8e-5 4.5e-3 1.4e-3 7.2e-3   0.01   0.01   0.02  14111    1.0\n",
              "spec   0.99  2.9e-5 3.3e-3   0.99   0.99   0.99    1.0    1.0  13446    1.0\n",
              "sens   0.84  2.3e-4   0.03   0.77   0.82   0.84   0.86    0.9  19642    1.0\n",
              "lp__ -338.2    0.01    1.3 -341.5 -338.7 -337.8 -337.2 -336.7  10319    1.0\n",
              "\n",
              "Samples were drawn using NUTS at Sat May  2 14:39:24 2020.\n",
              "For each parameter, n_eff is a crude measure of effective sample size,\n",
              "and Rhat is the potential scale reduction factor on split chains (at \n",
              "convergence, Rhat=1)."
            ]
          },
          "metadata": {
            "tags": []
          },
          "execution_count": 19
        }
      ]
    },
    {
      "cell_type": "code",
      "metadata": {
        "id": "td8O_ld205s4",
        "colab_type": "code",
        "colab": {
          "base_uri": "https://localhost:8080/",
          "height": 269
        },
        "outputId": "682203ae-a532-45e5-f455-0209e4f963e6"
      },
      "source": [
        "data1b = {\"y_sample\":50, \"n_sample\":3330, \"y_spec\":3308, \"n_spec\":3324, \"y_sens\":130, \"n_sens\":157}\n",
        "fit1b = sm1.sampling(data=data1b, iter=10000, chains=4, warmup=500, thin=1, seed=101);\n",
        "fit1b"
      ],
      "execution_count": 21,
      "outputs": [
        {
          "output_type": "execute_result",
          "data": {
            "text/plain": [
              "Inference for Stan model: anon_model_6f756a2a99ec06dc98376140b81b067e.\n",
              "4 chains, each with iter=10000; warmup=500; thin=1; \n",
              "post-warmup draws per chain=9500, total post-warmup draws=38000.\n",
              "\n",
              "       mean se_mean     sd   2.5%    25%    50%    75%  97.5%  n_eff   Rhat\n",
              "p      0.01  1.9e-5 3.0e-3 6.7e-3   0.01   0.01   0.01   0.02  25530    1.0\n",
              "spec   0.99  8.1e-6 1.2e-3   0.99   0.99   0.99    1.0    1.0  23300    1.0\n",
              "sens   0.82  1.9e-4   0.03   0.76    0.8   0.82   0.84   0.88  26257    1.0\n",
              "lp__ -446.1 10.0e-3   1.26 -449.4 -446.7 -445.8 -445.2 -444.7  15926    1.0\n",
              "\n",
              "Samples were drawn using NUTS at Sat May  2 14:39:34 2020.\n",
              "For each parameter, n_eff is a crude measure of effective sample size,\n",
              "and Rhat is the potential scale reduction factor on split chains (at \n",
              "convergence, Rhat=1)."
            ]
          },
          "metadata": {
            "tags": []
          },
          "execution_count": 21
        }
      ]
    },
    {
      "cell_type": "code",
      "metadata": {
        "id": "bE4YhQbF2cv8",
        "colab_type": "code",
        "colab": {}
      },
      "source": [
        "model2a = \"\"\"data {\n",
        "  int y_sample;\n",
        "  int n_sample;\n",
        "  int J_spec;\n",
        "  int y_spec [J_spec];\n",
        "  int n_spec [J_spec];\n",
        "  int J_sens;\n",
        "  int y_sens [J_sens];\n",
        "  int n_sens [J_sens];\n",
        "}\n",
        "parameters {\n",
        "  real p;\n",
        "  vector[J_spec] e_spec;\n",
        "  vector[J_sens] e_sens;\n",
        "  real mu_spec;\n",
        "  real<lower = 0> sigma_spec;\n",
        "  real mu_sens;\n",
        "  real<lower = 0> sigma_sens;\n",
        "}\n",
        "transformed parameters {\n",
        "  vector[J_spec] spec;\n",
        "  vector[J_sens] sens;\n",
        "  spec = inv_logit(mu_spec + sigma_spec * e_spec);\n",
        "  sens = inv_logit(mu_sens + sigma_sens * e_sens);\n",
        "}\n",
        "model {\n",
        "  real p_sample;\n",
        "  p_sample = p * sens[1] + (1 - p) * (1 - spec[1]);\n",
        "  y_sample ~ binomial(n_sample, p_sample);\n",
        "  y_spec ~ binomial(n_spec, spec);\n",
        "  y_sens ~ binomial(n_sens, sens);\n",
        "  e_spec ~ normal(0, 1);\n",
        "  e_sens ~ normal(0, 1);\n",
        "  sigma_spec ~ normal(0, 1);\n",
        "  sigma_sens ~ normal(0, 1);\n",
        "}\"\"\""
      ],
      "execution_count": 0,
      "outputs": []
    },
    {
      "cell_type": "code",
      "metadata": {
        "id": "Ba08-U43x6aX",
        "colab_type": "code",
        "colab": {}
      },
      "source": [
        "model2b = \"\"\"data {\n",
        "  int y_sample;  // for j = 1\n",
        "  int n_sample;  // for j = 1\n",
        "  int J_spec;\n",
        "  int y_spec [J_spec];  // no samples for j > 1\n",
        "  int n_spec [J_spec];\n",
        "  int J_sens;\n",
        "  int y_sens [J_sens];  // no samples for j > 1\n",
        "  int n_sens [J_sens];\n",
        "}\n",
        "parameters {\n",
        "  real p;\n",
        "  real mu_logit_spec;\n",
        "  real<lower = 0> sigma_logit_spec;\n",
        "  real mu_logit_sens;\n",
        "  real<lower = 0> sigma_logit_sens;\n",
        "  vector<offset = mu_logit_spec, multiplier = sigma_logit_spec>[J_spec] logit_spec;\n",
        "  vector<offset = mu_logit_sens, multiplier = sigma_logit_sens>[J_sens] logit_sens;\n",
        "}\n",
        "transformed parameters {\n",
        "  vector<lower = 0, upper = 1>[J_spec] spec = inv_logit(logit_spec);\n",
        "  vector<lower = 0, upper = 1>[J_sens] sens = inv_logit(logit_sens);\n",
        "}\n",
        "model {\n",
        "  real p_sample = p * sens[1] + (1 - p) * (1 - spec[1]);  // j = 1\n",
        "  y_sample ~ binomial(n_sample, p_sample);                // j = 1\n",
        "  y_spec ~ binomial_logit(n_spec, logit_spec);\n",
        "  y_sens ~ binomial_logit(n_sens, logit_sens);\n",
        "  logit_spec ~ normal(mu_logit_spec, sigma_logit_spec);\n",
        "  logit_sens ~ normal(mu_logit_sens, sigma_logit_sens);\n",
        "  sigma_logit_spec ~ normal(0, 1);\n",
        "  sigma_logit_sens ~ normal(0, 1);\n",
        "}\"\"\""
      ],
      "execution_count": 0,
      "outputs": []
    },
    {
      "cell_type": "code",
      "metadata": {
        "id": "YHVP6rd2yAWm",
        "colab_type": "code",
        "colab": {
          "base_uri": "https://localhost:8080/",
          "height": 35
        },
        "outputId": "5135a016-8602-4fc5-a9f3-df3e7cf8083e"
      },
      "source": [
        "sm2a = pystan.StanModel(io.StringIO(model2a))"
      ],
      "execution_count": 32,
      "outputs": [
        {
          "output_type": "stream",
          "text": [
            "INFO:pystan:COMPILING THE C++ CODE FOR MODEL anon_model_d0b622394f864e098022ebefc9a0a2ae NOW.\n"
          ],
          "name": "stderr"
        }
      ]
    },
    {
      "cell_type": "code",
      "metadata": {
        "id": "tTyF4a8T2hlA",
        "colab_type": "code",
        "colab": {
          "base_uri": "https://localhost:8080/",
          "height": 35
        },
        "outputId": "fa24b335-ec78-4156-9ea7-d7c3741e5e1a"
      },
      "source": [
        "sm2b = pystan.StanModel(io.StringIO(model2b))"
      ],
      "execution_count": 33,
      "outputs": [
        {
          "output_type": "stream",
          "text": [
            "INFO:pystan:COMPILING THE C++ CODE FOR MODEL anon_model_cce675f27ed74ed4cfdb5b12f94e12cd NOW.\n"
          ],
          "name": "stderr"
        }
      ]
    },
    {
      "cell_type": "code",
      "metadata": {
        "id": "aMTcNvhjzKIM",
        "colab_type": "code",
        "colab": {
          "base_uri": "https://localhost:8080/",
          "height": 1000
        },
        "outputId": "bdab4281-2d7f-4814-80f2-521313bab606"
      },
      "source": [
        "data2 = {\"y_sample\":50, \"n_sample\":3330, \"J_spec\":14, \"y_spec\":[0, 368, 30, 70, 1102, 300, 311, 500, 198, 99, 29, 146, 105, 50], \n",
        "         \"n_spec\":[0, 371, 30, 70, 1102, 300, 311, 500, 200, 99, 31, 150, 108, 52], \"J_sens\":4, \n",
        "         \"y_sens\":[0, 78, 27, 25], \"n_sens\":[0, 85, 37, 35]}\n",
        "fit2a = sm2a.sampling(data=data2, iter=10000, chains=4, warmup=500, thin=1, seed=101);\n",
        "fit2a"
      ],
      "execution_count": 34,
      "outputs": [
        {
          "output_type": "stream",
          "text": [
            "WARNING:pystan:n_eff / iter below 0.001 indicates that the effective sample size has likely been overestimated\n",
            "WARNING:pystan:Rhat above 1.1 or below 0.9 indicates that the chains very likely have not mixed\n",
            "WARNING:pystan:18318 of 38000 iterations ended with a divergence (48.2 %).\n",
            "WARNING:pystan:Try running with adapt_delta larger than 0.8 to remove the divergences.\n",
            "WARNING:pystan:11 of 38000 iterations saturated the maximum tree depth of 10 (0.0289 %)\n",
            "WARNING:pystan:Run again with max_treedepth larger than 10 to avoid saturation\n"
          ],
          "name": "stderr"
        },
        {
          "output_type": "execute_result",
          "data": {
            "text/plain": [
              "Inference for Stan model: anon_model_d0b622394f864e098022ebefc9a0a2ae.\n",
              "4 chains, each with iter=10000; warmup=500; thin=1; \n",
              "post-warmup draws per chain=9500, total post-warmup draws=38000.\n",
              "\n",
              "             mean se_mean     sd   2.5%    25%    50%    75%  97.5%  n_eff   Rhat\n",
              "p            0.48    0.24   4.63  -6.19 7.7e-3   0.02   0.28   11.9    377   1.01\n",
              "e_spec[1]    0.04    0.05   0.87  -1.48   -0.6  -0.03   0.62   1.92    276   1.02\n",
              "e_spec[2]   -0.38    0.02   0.48  -1.34  -0.71   -0.4  -0.06   0.61    765   1.01\n",
              "e_spec[3]    0.34    0.04   0.86  -1.26  -0.24    0.3   0.88   2.12    440   1.01\n",
              "e_spec[4]    0.38    0.04    0.8  -1.06  -0.17   0.32   0.89   2.05    435   1.01\n",
              "e_spec[5]    1.27    0.02   0.67 1.2e-3   0.79   1.24   1.71   2.67    833   1.01\n",
              "e_spec[6]     0.8    0.04   0.73   -0.5   0.28   0.76   1.29   2.32    358   1.01\n",
              "e_spec[7]    0.77    0.02    0.7  -0.48   0.27   0.74    1.2   2.33   1117   1.01\n",
              "e_spec[8]    0.97    0.03   0.72  -0.35   0.46   0.92   1.45   2.45    576   1.01\n",
              "e_spec[9]   -0.41    0.02   0.53   -1.4  -0.77  -0.43  -0.08   0.73    939   1.01\n",
              "e_spec[10]   0.47    0.02   0.76  -0.91  -0.05   0.42   0.94   2.09   1540    1.0\n",
              "e_spec[11]  -1.25    0.02    0.6  -2.38  -1.65   -1.3  -0.85 1.7e-3    863    1.0\n",
              "e_spec[12]  -1.06    0.01   0.48  -2.02  -1.36  -1.04  -0.76  -0.11   1157    1.0\n",
              "e_spec[13]  -1.03    0.02   0.51   -2.1  -1.34  -1.02  -0.72   0.01   1127    1.0\n",
              "e_spec[14]  -1.08    0.02   0.56  -2.12  -1.44  -1.12  -0.73    0.1   1202   1.01\n",
              "e_sens[1]   -1.23     0.6   1.18  -3.28  -2.11  -1.35  -0.35   1.14      4   1.44\n",
              "e_sens[2]    1.06    0.06   0.68   -0.3    0.6   1.07   1.51   2.37    112   1.04\n",
              "e_sens[3]   -0.03    0.33   0.88  -2.34  -0.52   0.12   0.58   1.39      7   1.26\n",
              "e_sens[4]   -0.06    0.34   0.86  -1.89  -0.62   0.07   0.54   1.34      7   1.27\n",
              "mu_spec      5.69    0.02   0.65   4.61   5.26   5.63   6.04   7.16    876    1.0\n",
              "sigma_spec    1.7    0.01   0.46   0.91   1.38   1.67   1.99   2.68   1065   1.01\n",
              "mu_sens      0.73    0.47   1.14  -1.84 5.9e-3   0.88   1.59   2.43      6   1.25\n",
              "sigma_sens   1.49    0.39   0.75   0.31   0.84   1.48   2.03   2.98      4   1.47\n",
              "spec[1]      0.99  4.4e-4 9.8e-3   0.96   0.99    1.0    1.0    1.0    505   1.02\n",
              "spec[2]      0.99  2.7e-4 4.4e-3   0.98   0.99   0.99    1.0    1.0    264   1.01\n",
              "spec[3]       1.0  1.9e-4 7.9e-3   0.97   0.99    1.0    1.0    1.0   1757   1.01\n",
              "spec[4]       1.0  3.3e-4 5.4e-3   0.98    1.0    1.0    1.0    1.0    269   1.02\n",
              "spec[5]       1.0  2.4e-5 7.5e-4    1.0    1.0    1.0    1.0    1.0    945    1.0\n",
              "spec[6]       1.0  9.4e-5 2.0e-3   0.99    1.0    1.0    1.0    1.0    441   1.01\n",
              "spec[7]       1.0  6.1e-5 1.9e-3   0.99    1.0    1.0    1.0    1.0    997    1.0\n",
              "spec[8]       1.0  4.4e-5 1.4e-3    1.0    1.0    1.0    1.0    1.0   1022   1.01\n",
              "spec[9]      0.99  2.2e-4 5.9e-3   0.98   0.99   0.99    1.0    1.0    733   1.01\n",
              "spec[10]      1.0  8.7e-5 4.0e-3   0.99    1.0    1.0    1.0    1.0   2103    1.0\n",
              "spec[11]     0.96  1.5e-3   0.03   0.88   0.95   0.97   0.99    1.0    461    1.0\n",
              "spec[12]     0.98  3.5e-4   0.01   0.95   0.97   0.98   0.99   0.99   1109    1.0\n",
              "spec[13]     0.98  3.4e-4   0.01   0.95   0.97   0.98   0.99    1.0   1394    1.0\n",
              "spec[14]     0.97  9.8e-4   0.02   0.92   0.96   0.98   0.99    1.0    397   1.01\n",
              "sens[1]      0.36    0.23   0.37 1.4e-3   0.02   0.15   0.78   0.94      3   2.07\n",
              "sens[2]       0.9  1.8e-3   0.03   0.83   0.89   0.91   0.93   0.96    324   1.02\n",
              "sens[3]      0.73  3.7e-3   0.07   0.59   0.69   0.74   0.78   0.85    343   1.02\n",
              "sens[4]      0.72  3.9e-3   0.07   0.57   0.67   0.73   0.78   0.85    345   1.02\n",
              "lp__       -425.3    0.86   4.27 -434.3 -427.9 -425.0 -422.4 -417.4     24   1.07\n",
              "\n",
              "Samples were drawn using NUTS at Sat May  2 14:48:48 2020.\n",
              "For each parameter, n_eff is a crude measure of effective sample size,\n",
              "and Rhat is the potential scale reduction factor on split chains (at \n",
              "convergence, Rhat=1)."
            ]
          },
          "metadata": {
            "tags": []
          },
          "execution_count": 34
        }
      ]
    },
    {
      "cell_type": "code",
      "metadata": {
        "id": "x7_ZhxiG0Ojk",
        "colab_type": "code",
        "colab": {
          "base_uri": "https://localhost:8080/",
          "height": 1000
        },
        "outputId": "d84f6fa6-e330-4fad-d0bd-22828314caf2"
      },
      "source": [
        "fit2b = sm2b.sampling(data=data2, iter=10000, chains=4, warmup=500, thin=1, seed=101);\n",
        "fit2b"
      ],
      "execution_count": 35,
      "outputs": [
        {
          "output_type": "stream",
          "text": [
            "WARNING:pystan:n_eff / iter below 0.001 indicates that the effective sample size has likely been overestimated\n",
            "WARNING:pystan:Rhat above 1.1 or below 0.9 indicates that the chains very likely have not mixed\n",
            "WARNING:pystan:15898 of 38000 iterations ended with a divergence (41.8 %).\n",
            "WARNING:pystan:Try running with adapt_delta larger than 0.8 to remove the divergences.\n",
            "WARNING:pystan:7 of 38000 iterations saturated the maximum tree depth of 10 (0.0184 %)\n",
            "WARNING:pystan:Run again with max_treedepth larger than 10 to avoid saturation\n"
          ],
          "name": "stderr"
        },
        {
          "output_type": "execute_result",
          "data": {
            "text/plain": [
              "Inference for Stan model: anon_model_cce675f27ed74ed4cfdb5b12f94e12cd.\n",
              "4 chains, each with iter=10000; warmup=500; thin=1; \n",
              "post-warmup draws per chain=9500, total post-warmup draws=38000.\n",
              "\n",
              "                   mean se_mean     sd   2.5%    25%    50%    75%  97.5%  n_eff   Rhat\n",
              "p                  4.08    2.95  18.59 -14.79 8.8e-3   0.02   1.11  82.19     40   1.12\n",
              "mu_logit_spec      5.67    0.01   0.66   4.53   5.23   5.61   6.05   7.09   2143    1.0\n",
              "sigma_logit_spec   1.69  9.9e-3   0.47    0.9   1.35   1.64   1.98   2.74   2265    1.0\n",
              "mu_logit_sens      0.53    0.54   1.24  -2.19  -0.33   0.75   1.46   2.47      5   1.28\n",
              "sigma_logit_sens   1.63    0.43    0.8   0.29   0.93   1.69   2.21   3.13      3   1.53\n",
              "logit_spec[1]      5.81    0.04   1.65    3.1   4.59   5.69   6.79   9.62   1436    1.0\n",
              "logit_spec[2]      5.06  8.7e-3    0.6   4.02   4.64   5.02   5.41   6.37   4661    1.0\n",
              "logit_spec[3]      6.11    0.03   1.61   3.48   4.99   5.95   7.03   9.86   2725    1.0\n",
              "logit_spec[4]       6.4    0.03   1.57   3.96   5.28   6.16   7.28  10.06   2312   1.01\n",
              "logit_spec[5]      7.74    0.02   1.25   5.87   6.87   7.52   8.39  10.74   4204    1.0\n",
              "logit_spec[6]       7.0    0.02   1.37   4.89   6.04   6.77   7.73  10.28   5267    1.0\n",
              "logit_spec[7]      6.99    0.04   1.39   4.85   5.99   6.79   7.76  10.27   1156   1.01\n",
              "logit_spec[8]      7.33    0.02   1.34   5.31   6.38   7.13   8.05  10.63   3989    1.0\n",
              "logit_spec[9]      4.97    0.01   0.75   3.67   4.44   4.92   5.43   6.59   3029    1.0\n",
              "logit_spec[10]     6.57    0.02   1.49   4.22   5.54   6.41   7.35  10.15   4472    1.0\n",
              "logit_spec[11]     3.56    0.03   0.94   1.86   2.91   3.51   4.16   5.47    859    1.0\n",
              "logit_spec[12]     3.92  7.7e-3   0.55   2.96   3.53   3.88   4.26    5.1   4990    1.0\n",
              "logit_spec[13]     3.98    0.01   0.66   2.86    3.5   3.92   4.39    5.4   2162    1.0\n",
              "logit_spec[14]     3.92    0.01   0.85    2.4   3.32   3.87   4.44   5.74   3703    1.0\n",
              "logit_sens[1]     -2.15    1.98   3.21  -7.19  -4.71  -2.98   1.08   2.91      3   2.01\n",
              "logit_sens[2]       2.3    0.02    0.4   1.59   2.02   2.28   2.56   3.13    515   1.01\n",
              "logit_sens[3]      1.04    0.03   0.36   0.36    0.8   1.03   1.29   1.78    169   1.01\n",
              "logit_sens[4]      0.97    0.03   0.38   0.25   0.72   0.96   1.22   1.74    130   1.02\n",
              "spec[1]            0.99  5.1e-4   0.01   0.96   0.99    1.0    1.0    1.0    727   1.01\n",
              "spec[2]            0.99  5.1e-5 4.1e-3   0.98   0.99   0.99    1.0    1.0   6526    1.0\n",
              "spec[3]            0.99  1.0e-4 8.6e-3   0.97   0.99    1.0    1.0    1.0   7022    1.0\n",
              "spec[4]             1.0  7.1e-5 5.4e-3   0.98   0.99    1.0    1.0    1.0   5799    1.0\n",
              "spec[5]             1.0  8.7e-6 7.5e-4    1.0    1.0    1.0    1.0    1.0   7441    1.0\n",
              "spec[6]             1.0  2.9e-5 2.0e-3   0.99    1.0    1.0    1.0    1.0   4788    1.0\n",
              "spec[7]             1.0  9.7e-5 2.0e-3   0.99    1.0    1.0    1.0    1.0    446   1.01\n",
              "spec[8]             1.0  1.7e-5 1.3e-3    1.0    1.0    1.0    1.0    1.0   6332    1.0\n",
              "spec[9]            0.99  1.3e-4 6.2e-3   0.98   0.99   0.99    1.0    1.0   2210    1.0\n",
              "spec[10]            1.0  5.3e-5 4.2e-3   0.99    1.0    1.0    1.0    1.0   6222    1.0\n",
              "spec[11]           0.96  1.9e-3   0.04   0.86   0.95   0.97   0.98    1.0    340   1.01\n",
              "spec[12]           0.98  1.5e-4   0.01   0.95   0.97   0.98   0.99   0.99   5280    1.0\n",
              "spec[13]           0.98  3.0e-4   0.01   0.95   0.97   0.98   0.99    1.0   1939    1.0\n",
              "spec[14]           0.97  4.6e-4   0.02   0.92   0.97   0.98   0.99    1.0   2038    1.0\n",
              "sens[1]            0.32    0.22   0.37 7.5e-4 8.9e-3   0.05   0.75   0.95      3   1.85\n",
              "sens[2]             0.9  1.5e-3   0.03   0.83   0.88   0.91   0.93   0.96    484   1.01\n",
              "sens[3]            0.73  5.0e-3   0.07   0.59   0.69   0.74   0.78   0.86    188   1.01\n",
              "sens[4]            0.72  6.4e-3   0.07   0.56   0.67   0.72   0.77   0.85    136   1.02\n",
              "lp__             -425.9    0.93    4.3 -435.0 -428.6 -425.6 -422.8 -418.4     21   1.07\n",
              "\n",
              "Samples were drawn using NUTS at Sat May  2 14:49:34 2020.\n",
              "For each parameter, n_eff is a crude measure of effective sample size,\n",
              "and Rhat is the potential scale reduction factor on split chains (at \n",
              "convergence, Rhat=1)."
            ]
          },
          "metadata": {
            "tags": []
          },
          "execution_count": 35
        }
      ]
    }
  ]
}